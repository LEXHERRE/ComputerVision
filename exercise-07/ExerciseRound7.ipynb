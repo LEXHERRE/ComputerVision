{
 "cells": [
  {
   "cell_type": "code",
   "execution_count": 1,
   "metadata": {},
   "outputs": [
    {
     "data": {
      "text/html": [
       "<script>\n",
       "code_show=true;\n",
       "function code_toggle() {\n",
       "if (code_show){\n",
       "$('div.input').hide();\n",
       "} else {\n",
       "$('div.input').show();\n",
       "}\n",
       "code_show = !code_show\n",
       "}\n",
       "$( document ).ready(code_toggle);\n",
       "</script>\n",
       "<form action=\"javascript:code_toggle()\"><input type=\"submit\" value=\"Click here to toggle on/off the raw code.\"></form>"
      ],
      "text/plain": [
       "<IPython.core.display.HTML object>"
      ]
     },
     "execution_count": 1,
     "metadata": {},
     "output_type": "execute_result"
    }
   ],
   "source": [
    "# This cell is used for creating a button that hides/unhides code cells to quickly look only the results.\n",
    "# Works only with Jupyter Notebooks.\n",
    "\n",
    "import os\n",
    "from IPython.display import HTML\n",
    "\n",
    "HTML('''<script>\n",
    "code_show=true;\n",
    "function code_toggle() {\n",
    "if (code_show){\n",
    "$('div.input').hide();\n",
    "} else {\n",
    "$('div.input').show();\n",
    "}\n",
    "code_show = !code_show\n",
    "}\n",
    "$( document ).ready(code_toggle);\n",
    "</script>\n",
    "<form action=\"javascript:code_toggle()\"><input type=\"submit\" value=\"Click here to toggle on/off the raw code.\"></form>''')"
   ]
  },
  {
   "cell_type": "code",
   "execution_count": 2,
   "metadata": {},
   "outputs": [
    {
     "name": "stdout",
     "output_type": "stream",
     "text": [
      "The data directory is /coursedata\n",
      "Data stored in /coursedata/exercise-07-data\n"
     ]
    }
   ],
   "source": [
    "# Description:\n",
    "#   Exercise7 notebook.\n",
    "#\n",
    "# Copyright (C) 2018 Santiago Cortes, Juha Ylioinas\n",
    "#\n",
    "# This software is distributed under the GNU General Public \n",
    "# Licence (version 2 or later); please refer to the file \n",
    "# Licence.txt, included with the software, for details.\n",
    "\n",
    "# Preparations\n",
    "import numpy as np\n",
    "\n",
    "# Select data directory\n",
    "if os.path.isdir('/coursedata'):\n",
    "    # JupyterHub\n",
    "    course_data_dir = '/coursedata'\n",
    "elif os.path.isdir('../../../coursedata'):\n",
    "    # Local installation\n",
    "    course_data_dir = '../../../coursedata'\n",
    "else:\n",
    "    # Docker\n",
    "    course_data_dir = '/home/jovyan/work/coursedata/'\n",
    "\n",
    "print('The data directory is %s' % course_data_dir)\n",
    "data_dir = os.path.join(course_data_dir, 'exercise-07-data')\n",
    "print('Data stored in %s' % data_dir)"
   ]
  },
  {
   "cell_type": "markdown",
   "metadata": {},
   "source": [
    "# CS-E4850 Computer Vision Exercise Round 7\n",
    "The problems should be solved before the exercise session and solutions returned via\n",
    "MyCourses. <br><br> For this exercise round, upload this notebook(pdf and .ipynb versions) containing your source codes (for Exercise 1) and your answer to the question of Exercise2, and all the answers to the questions of Exercise 3 (VGG practical), see part[1-3].ipynb. Note that it's not necessary to upload part1.ipynb, part2.ipynb or part3.ipynb, because all of the necessary questions related to them are contained in this notebook and you're not expected to do any coding in Exercises 2 and 3."
   ]
  },
  {
   "cell_type": "markdown",
   "metadata": {},
   "source": [
    "## Exercise 1 - Comparing  bags-of-words  with  tf-idf  weighting\n",
    "Assume  that  we  have  an  indexed  collection  of  documents  containing  the  five  terms  of the following table where the second row indicates the percentage of documents in which each term appears.<br>\n",
    "\n",
    "| term | cat | dog |mammals | mouse | pet |\n",
    "| --- | :---: | :---: | :---: | :---: | :---: |\n",
    "| **% of documents** | 5 | 20 | 2 | 10 | 60 |\n",
    "\n",
    "Now, given the query $Q=\\{mouse, cat, pet, mammals\\}$, compute the similarity between $Q$ and the following example documents $D1$, $D2$, $D3$, by using the cosine similarity measure and tf-idf weights (i.e. term frequency - inverse document frequency) for the bag-of-words histogram representations of the documents and the query.\n",
    "\n",
    "-  $D1$ = Cat is a pet, dog is a pet, and mouse may be a pet too.\n",
    "-  $D2$ = Cat, dog and mouse are all mammals.\n",
    "-  $D3$ = Cat and dog get along well, but cat may eat a mouse.\n",
    "\n",
    "Ignore other words except the five terms. You may proceed with the following steps:\n",
    "\n",
    "a) Compute and report the inverse document frequency (idf) for each of the five terms. Use the logarithm with base 2. (idf is the logarithm on slide 69 of Lecture 6.)<br>\n",
    "b) Compute the term frequencies for the query and each document. <br>\n",
    "c) Form the tf-idf weighted word occurrence histograms for the query and documents. <br>\n",
    "d) Evaluate the cosine similarity between the query and each document (i.e.\\ normalized scalar product between the weighted occurrence histograms as shown on slide 45).<br> \n",
    "e) Report the relative ranking of the documents. (You should get similarities 0.95, 0.64, and 0.63, but you need to determine which corresponds to which document.)<br>"
   ]
  },
  {
   "cell_type": "code",
   "execution_count": 3,
   "metadata": {},
   "outputs": [
    {
     "name": "stdout",
     "output_type": "stream",
     "text": [
      "     terms  %documents       idf\n",
      "0      cat           5  4.321928\n",
      "1      dog          20  2.321928\n",
      "2  mammals           2  5.643856\n",
      "3    mouse          10  3.321928\n",
      "4      pet          60  0.736966\n",
      "\n",
      "     terms  %documents       idf   tfQ      tfD1  tfD2  tfD3\n",
      "0      cat           5  4.321928  0.25  0.166667  0.25  0.50\n",
      "1      dog          20  2.321928  0.00  0.166667  0.25  0.25\n",
      "2  mammals           2  5.643856  0.25  0.000000  0.25  0.00\n",
      "3    mouse          10  3.321928  0.25  0.166667  0.25  0.25\n",
      "4      pet          60  0.736966  0.25  0.500000  0.00  0.00\n",
      "\n",
      "     terms  %documents       idf   tfQ      tfD1  tfD2  tfD3    tfidfQ  \\\n",
      "0      cat           5  4.321928  0.25  0.166667  0.25  0.50  1.080482   \n",
      "1      dog          20  2.321928  0.00  0.166667  0.25  0.25  0.000000   \n",
      "2  mammals           2  5.643856  0.25  0.000000  0.25  0.00  1.410964   \n",
      "3    mouse          10  3.321928  0.25  0.166667  0.25  0.25  0.830482   \n",
      "4      pet          60  0.736966  0.25  0.500000  0.00  0.00  0.184241   \n",
      "\n",
      "    tfidfD1   tfidfD2   tfidfD3  \n",
      "0  0.720321  1.080482  2.160964  \n",
      "1  0.386988  0.580482  0.580482  \n",
      "2  0.000000  1.410964  0.000000  \n",
      "3  0.553655  0.830482  0.830482  \n",
      "4  0.368483  0.000000  0.000000  \n",
      "\n"
     ]
    },
    {
     "data": {
      "image/png": "[encoded data removed]",
      "text/plain": [
       "<Figure size 432x288 with 1 Axes>"
      ]
     },
     "metadata": {
      "needs_background": "light"
     },
     "output_type": "display_data"
    },
    {
     "data": {
      "image/png": "[encoded data removed]",
      "text/plain": [
       "<Figure size 432x288 with 1 Axes>"
      ]
     },
     "metadata": {
      "needs_background": "light"
     },
     "output_type": "display_data"
    },
    {
     "data": {
      "image/png": "[encoded data removed]",
      "text/plain": [
       "<Figure size 432x288 with 1 Axes>"
      ]
     },
     "metadata": {
      "needs_background": "light"
     },
     "output_type": "display_data"
    },
    {
     "data": {
      "image/png": "[encoded data removed]",
      "text/plain": [
       "<Figure size 432x288 with 1 Axes>"
      ]
     },
     "metadata": {
      "needs_background": "light"
     },
     "output_type": "display_data"
    },
    {
     "name": "stdout",
     "output_type": "stream",
     "text": [
      "\n",
      "simQD1 =\n",
      "0.6288846426378089\n",
      "simQD2 =\n",
      "0.9546948111493487\n",
      "simQD3 =\n",
      "0.6431937393302419\n",
      "\n",
      "Relative ranking:\n",
      " 1) Document 2: 0.95\n",
      " 2) Document 3: 0.64\n",
      " 3) Document 1: 0.63\n"
     ]
    }
   ],
   "source": [
    "## Comparing  bags-of-words  with  tf-idf  weighting\n",
    "##--your-code-starts-here--##\n",
    "import pandas as pd\n",
    "import re\n",
    "from collections import Counter\n",
    "import matplotlib.pyplot as plt\n",
    "\n",
    "data = pd.DataFrame()\n",
    "terms = ['cat','dog','mammals','mouse','pet']\n",
    "data['terms'] = terms\n",
    "data['%documents'] = [5,20,2,10,60]\n",
    "\n",
    "Q = ['mouse','cat','pet','mammals']\n",
    "\n",
    "def words(D):\n",
    "    return (re.sub(\"[^\\w]\", \" \",  D).split())\n",
    "\n",
    "def onlyTerms(D, terms): \n",
    "    return [w for w in D if w in terms] \n",
    "\n",
    "# write the first letter in lowercase\n",
    "D1 = 'cat is a pet, dog is a pet, and mouse may be a pet too.'\n",
    "D2 = 'cat, dog and mouse are all mammals.'\n",
    "D3 = 'cat and dog get along well, but cat may eat a mouse.'\n",
    "\n",
    "D1 = onlyTerms(words(D1),terms)\n",
    "D2 = onlyTerms(words(D2),terms)\n",
    "D3 = onlyTerms(words(D3),terms)\n",
    "\n",
    "#a)\n",
    "data['idf'] = np.log2(100/data['%documents'])\n",
    "print(data)\n",
    "print()\n",
    "\n",
    "#b)\n",
    "def tf(D):\n",
    "    freq = dict(Counter(D))\n",
    "    n = sum(freq.values())\n",
    "    freq = {k: v/n for k, v in freq.items()}\n",
    "    return freq\n",
    "\n",
    "def allTerms(D,terms):\n",
    "    vals = []\n",
    "    for t in terms:\n",
    "        if not t in D:\n",
    "            D[t]=0\n",
    "        vals.append(D[t])\n",
    "    return vals\n",
    "\n",
    "tfQ = tf(Q)\n",
    "data['tfQ'] = allTerms(tfQ,terms)\n",
    "\n",
    "tfD1 = tf(D1)\n",
    "data['tfD1'] = allTerms(tfD1,terms)\n",
    "\n",
    "tfD2 = tf(D2)\n",
    "data['tfD2'] = allTerms(tfD2,terms)\n",
    "\n",
    "tfD3 = tf(D3)\n",
    "data['tfD3'] = allTerms(tfD3,terms)\n",
    "\n",
    "print(data)\n",
    "print()\n",
    "\n",
    "#c)\n",
    "data['tfidfQ'] = data['tfQ']*data['idf']\n",
    "data['tfidfD1'] = data['tfD1']*data['idf']\n",
    "data['tfidfD2'] = data['tfD2']*data['idf']\n",
    "data['tfidfD3'] = data['tfD3']*data['idf']\n",
    "print(data)\n",
    "print()\n",
    "\n",
    "def printPlot(terms,vals,title=''):\n",
    "    plt.clf()\n",
    "    plt.title(title)\n",
    "    plt.bar(terms, vals)\n",
    "    plt.show()\n",
    "\n",
    "printPlot(terms,data['tfidfQ'],'tfidfQ')\n",
    "printPlot(terms,data['tfidfD1'],'tfidfD1')\n",
    "printPlot(terms,data['tfidfD2'],'tfidfD2')\n",
    "printPlot(terms,data['tfidfD3'],'tfidfD3')\n",
    "print()\n",
    "\n",
    "#d)\n",
    "def similarity(Q,D):\n",
    "    numerator = np.dot(D,Q)\n",
    "    denominator = (np.sqrt(sum(D**2)))*(np.sqrt(sum(Q**2)))\n",
    "    return numerator/denominator\n",
    "\n",
    "print('simQD1 =')\n",
    "simQD1 = similarity(data['tfidfQ'],data['tfidfD1'])\n",
    "print(simQD1)\n",
    "\n",
    "print('simQD2 =')\n",
    "simQD2 = similarity(data['tfidfQ'],data['tfidfD2'])\n",
    "print(simQD2)\n",
    "\n",
    "print('simQD3 =')\n",
    "simQD3 = similarity(data['tfidfQ'],data['tfidfD3'])\n",
    "print(simQD3)\n",
    "print()\n",
    "\n",
    "#e)\n",
    "print('Relative ranking:')\n",
    "print(' 1) Document 2: 0.95')\n",
    "print(' 2) Document 3: 0.64')\n",
    "print(' 3) Document 1: 0.63')\n",
    "\n",
    "##--your-code-ends-here--##"
   ]
  },
  {
   "cell_type": "markdown",
   "metadata": {},
   "source": [
    "## Exercise 2 - Precision  and  recall\n",
    "There is a database of 10000 images and a user, who is only interested in images which contain a car. It is known that there are 500 such images in the database. An  automatic image retrieval system retrieves 300 car images and 50 other images from the database. Determine and report the precision and recall of the retrieval  system in this particularcase."
   ]
  },
  {
   "cell_type": "markdown",
   "metadata": {},
   "source": [
    "Type your answer here:\n",
    "$$precision = \\frac{num\\_correct}{num\\_returned} = \\frac{300}{300+50} = 0.857142857$$\n",
    "\n",
    "$$recall = \\frac{num\\_correct}{total\\_car} = \\frac{300}{500} = 0.6$$"
   ]
  },
  {
   "cell_type": "markdown",
   "metadata": {},
   "source": [
    "## Exercise 3 - VGG practical on object instance recognition\n",
    "See the questions in part[1-3].ipynb and write your answers here.\n",
    "\n",
    "Part1:\n",
    "Stage I.A (two questions)\n",
    " 1. The density changes across the images because we measure rapid local changes to find detections, so only detections that are above a global threshold will be detected. That's why in flat regions such as the sky or the shadow part of the building we obtain less detections than in the right part of the building that has much more corners and edges. That will be a problem for matching but can be avoided using some adaptive methods such as setting an adaptive threshold based on the information of its neighbors.\n",
    "\n",
    " 2. Images with very few corners and edges can result in ambiguous orientation assignment.\n",
    "\n",
    "Stage I.B (two questions)\n",
    "\n",
    " 1. The descriptors are larger so that when locating feature points with detection we can obtain a more reliable estimation description.\n",
    "\n",
    " 2. The change in lighting in the images may not be a problem since SIFT is robust to changes in ilumination, noise, and minor changes in viewpoint. To remove mismathces some algorithms such as k-d trees with best-bin-first search can be used.\n",
    "\n",
    "Stage I.C (one question)\n",
    "\n",
    " 1. Having $nnthreshold=0.8$ we obtain that 90% of the mismatches and less than 5% of the correct matches will be deleted. Some of the remaining mismatches can be deleted using disparity gradient and the RANSAC algorithm.\n",
    "\n",
    "\n",
    "Part2 (one question)\n",
    "\n",
    " 1. \n",
    "\n",
    "\n",
    "Part3:\n",
    "Stage III.A (three questions)\n",
    "\n",
    " 1. When the size of the vocabulary is highly decreased the number of inliners only suffer a small reduction, therefore the difficulty for computing the transformation is almost the same.\n",
    "\n",
    " 2. This is done because the conversion of the descriptors into visual words can be pre-computed.\n",
    "\n",
    " 3. We can obtain the following aproximated speedups:\n",
    "  - 10 images: 0.18s\n",
    "  - 100 images: 1.7s\n",
    "  - 1000 images: 17s\n",
    "  \n",
    "  We can observe that the speedup is almost proporcional to the number of images. \n",
    "\n",
    "\n",
    "Stage III.B (one question)\n",
    "\n",
    " 1. Because it is the same as the query image.\n",
    "\n",
    "Stage III.C (two questions)\n",
    "\n",
    " 1. Because now the score is the number of inlier words.\n",
    "\n",
    " 2. Yes, we can see that the irrelevant images have lower score."
   ]
  }
 ],
 "metadata": {
  "kernelspec": {
   "display_name": "Python 3",
   "language": "python",
   "name": "python3"
  },
  "language_info": {
   "codemirror_mode": {
    "name": "ipython",
    "version": 3
   },
   "file_extension": ".py",
   "mimetype": "text/x-python",
   "name": "python",
   "nbconvert_exporter": "python",
   "pygments_lexer": "ipython3",
   "version": "3.7.8"
  },
  "varInspector": {
   "cols": {
    "lenName": 16,
    "lenType": 16,
    "lenVar": 40
   },
   "kernels_config": {
    "python": {
     "delete_cmd_postfix": "",
     "delete_cmd_prefix": "del ",
     "library": "var_list.py",
     "varRefreshCmd": "print(var_dic_list())"
    },
    "r": {
     "delete_cmd_postfix": ") ",
     "delete_cmd_prefix": "rm(",
     "library": "var_list.r",
     "varRefreshCmd": "cat(var_dic_list()) "
    }
   },
   "types_to_exclude": [
    "module",
    "function",
    "builtin_function_or_method",
    "instance",
    "_Feature"
   ],
   "window_display": false
  }
 },
 "nbformat": 4,
 "nbformat_minor": 4
}
